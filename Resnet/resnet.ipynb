{
 "cells": [
  {
   "cell_type": "code",
   "execution_count": 1,
   "metadata": {},
   "outputs": [
    {
     "name": "stderr",
     "output_type": "stream",
     "text": [
      "Using TensorFlow backend.\n"
     ]
    }
   ],
   "source": [
    "from keras.datasets import cifar100\n",
    "import os\n",
    "import sys\n",
    "from six.moves import urllib\n",
    "import gzip\n",
    "import pickle\n",
    "import numpy as np\n",
    "import tensorflow as tf\n",
    "%matplotlib inline\n",
    "import matplotlib.pyplot as plt\n",
    "\n"
   ]
  },
  {
   "cell_type": "code",
   "execution_count": 2,
   "metadata": {},
   "outputs": [],
   "source": [
    "# size of MNIST\n",
    "# print(x_train.shape)\n",
    "# print(y_train.shape)\n",
    "# print(x_test.shape)\n",
    "# print(y_test.shape)"
   ]
  },
  {
   "cell_type": "code",
   "execution_count": 3,
   "metadata": {},
   "outputs": [],
   "source": [
    "# # show data\n",
    "# _, (ax1) = plt.subplots(1)\n",
    "# sample_data = x_train[0]\n",
    "# ax1.imshow(sample_data, cmap=plt.cm.Greys)"
   ]
  },
  {
   "cell_type": "code",
   "execution_count": 4,
   "metadata": {},
   "outputs": [],
   "source": [
    "\n",
    "    def residual_block(self, input_layer, filter: List[int], channel: List[int], stride:int = 1) -> tf.Tensor:\n",
    "        \"\"\"\n",
    "        input -> Conv -> BN -> ReLU -> Conv -> BN -> Addition -> ReLU -> output\n",
    "        :param input_layer: Usually previous layer\n",
    "        :param filter: (width<int>, height<int>) The size of the filter\n",
    "        :param channel: [in_channels, out_channels]\n",
    "        :param stride: The size of the s\n",
    "        :return:\n",
    "        \"\"\"\n",
    "        input_channel, output_channel = channel\n",
    "        \n",
    "        h = self.conv_bn(input_layer, filter = filter, channel=[input_channel, output_channel], stride = stride)\n",
    "        h = tf.nn.relu(h)\n",
    "        h = self.conv_bn(h, filter=filter, channel= [output_channel, output_channel], stride = stride)\n",
    "        \n",
    "        if input_channel != output_channel:\n",
    "            # Input channel 과 output channel이 dimension이 다르기 때문에 projection 을 통해서 dimension을 맞춰준다.\n",
    "            inp, _filter = self.conv(input_layer, filter=[1,1], channel=[input_channel,output_channel], stride = stride)\n",
    "        else:\n",
    "            inp = input_layer\n",
    "        \n",
    "        h = tf.add(h, inp)\n",
    "        h = tf.nn.relu(h)\n",
    "        self.layers.append(h)\n",
    "        return h\n"
   ]
  },
  {
   "cell_type": "code",
   "execution_count": 5,
   "metadata": {},
   "outputs": [],
   "source": [
    "def model(resnet: ResNet):\n",
    "    with tf.variable_scope('input_scope'):\n",
    "        h = init_block(filter=[7, 7], channel=[3, 64], max_pool=False)\n",
    "        \n",
    "    with tf.variable_scope('residual01'),tf.device('/device:GPU:0'):\n",
    "        h = residual_block(h, filter=[3, 3], channel=[64, 64])\n",
    "        h = resnet.residual_block(h, filter=[3, 3], channel=[64, 64])\n",
    "        h = resnet.residual_block(h, filter=[3, 3], channel=[64, 64])\n",
    "        h = resnet.residual_block(h, filter=[3, 3], channel=[64, 64])\n",
    "        h = resnet.residual_block(h, filter=[3, 3], channel=[64, 64])\n",
    "        h = resnet.residual_block(h, filter=[3, 3], channel=[64, 64])\n",
    "        \n",
    "    with tf.variable_scope('residual02'),tf.device('/device:GPU:0'):\n",
    "        h = resnet.max_pool(h, kernel=[2, 2], stride=[2, 2])\n",
    "        h = resnet.residual_block(h, filter=[3, 3], channel=[64, 128])\n",
    "        h = resnet.residual_block(h, filter=[3, 3], channel=[128, 128])\n",
    "        h = resnet.residual_block(h, filter=[3, 3], channel=[128, 128])\n",
    "        h = resnet.residual_block(h, filter=[3, 3], channel=[128, 128])\n",
    "        h = resnet.residual_block(h, filter=[3, 3], channel=[128, 128])\n",
    "        h = resnet.residual_block(h, filter=[3, 3], channel=[128, 128])\n",
    "        h = resnet.residual_block(h, filter=[3, 3], channel=[128, 128])\n",
    "        h = resnet.residual_block(h, filter=[3, 3], channel=[128, 128])\n",
    "        \n",
    "    with tf.variable_scope('residual03'),tf.device('/device:GPU:0'):\n",
    "        h = resnet.max_pool(h, kernel=[2, 2], stride=[2, 2])\n",
    "        h = resnet.residual_block(h, filter=[3, 3], channel=[128, 256])\n",
    "        h = resnet.residual_block(h, filter=[3, 3], channel=[256, 256])\n",
    "        h = resnet.residual_block(h, filter=[3, 3], channel=[256, 256])\n",
    "        h = resnet.residual_block(h, filter=[3, 3], channel=[256, 256])\n",
    "        h = resnet.residual_block(h, filter=[3, 3], channel=[256, 256])\n",
    "        h = resnet.residual_block(h, filter=[3, 3], channel=[256, 256])\n",
    "        h = resnet.residual_block(h, filter=[3, 3], channel=[256, 256])\n",
    "        h = resnet.residual_block(h, filter=[3, 3], channel=[256, 256])\n",
    "        h = resnet.residual_block(h, filter=[3, 3], channel=[256, 256])\n",
    "        h = resnet.residual_block(h, filter=[3, 3], channel=[256, 256])\n",
    "        h = resnet.residual_block(h, filter=[3, 3], channel=[256, 256])\n",
    "        h = resnet.residual_block(h, filter=[3, 3], channel=[256, 256])\n",
    "    \n",
    "    with tf.variable_scope('residual04'),tf.device('/device:GPU:0'):\n",
    "        h = resnet.max_pool(h, kernel=[2, 2], stride=[2, 2])\n",
    "        h = resnet.residual_block(h, filter=[3, 3], channel=[256, 512])\n",
    "        h = resnet.residual_block(h, filter=[3, 3], channel=[512, 512])\n",
    "        h = resnet.residual_block(h, filter=[3, 3], channel=[512, 512])\n",
    "        h = resnet.residual_block(h, filter=[3, 3], channel=[512, 512])\n",
    "        h = resnet.residual_block(h, filter=[3, 3], channel=[512, 512])\n",
    "        h = resnet.residual_block(h, filter=[3, 3], channel=[512, 512])\n",
    "    \n",
    "    with tf.variable_scope('fc'),tf.device('/device:GPU:0'):\n",
    "        h = resnet.avg_pool(h, kernel=[2, 2], stride=[2, 2])\n",
    "        h = resnet.fc(h)\n",
    "    return h"
   ]
  },
  {
   "cell_type": "code",
   "execution_count": 6,
   "metadata": {},
   "outputs": [],
   "source": [
    "epoch_ = 10\n",
    "batch = 100\n",
    "save_interval = 5000\n",
    "visualize_interval = 20"
   ]
  },
  {
   "cell_type": "code",
   "execution_count": 7,
   "metadata": {
    "scrolled": false
   },
   "outputs": [
    {
     "name": "stdout",
     "output_type": "stream",
     "text": [
      "Start Training\n",
      "(100, 32, 32, 3) (100, 1)\n"
     ]
    },
    {
     "ename": "InvalidArgumentError",
     "evalue": "labels must be 1-D, but got shape [100,1]\n\t [[node fc_1/cross_entropy/cross_entropy (defined at <ipython-input-4-0962b8d35352>:164)  = SparseSoftmaxCrossEntropyWithLogits[T=DT_FLOAT, Tlabels=DT_INT32, _device=\"/job:localhost/replica:0/task:0/device:GPU:0\"](fc/add, _arg_Placeholder_1_0_1/_783)]]\n\t [[{{node fc_1/cross_entropy_mean/_789}} = _Recv[client_terminated=false, recv_device=\"/job:localhost/replica:0/task:0/device:CPU:0\", send_device=\"/job:localhost/replica:0/task:0/device:GPU:0\", send_device_incarnation=1, tensor_name=\"edge_14244_fc_1/cross_entropy_mean\", tensor_type=DT_FLOAT, _device=\"/job:localhost/replica:0/task:0/device:CPU:0\"]()]]\n\nCaused by op 'fc_1/cross_entropy/cross_entropy', defined at:\n  File \"/home/pirl/.conda/envs/tf/lib/python3.6/runpy.py\", line 193, in _run_module_as_main\n    \"__main__\", mod_spec)\n  File \"/home/pirl/.conda/envs/tf/lib/python3.6/runpy.py\", line 85, in _run_code\n    exec(code, run_globals)\n  File \"/home/pirl/.conda/envs/tf/lib/python3.6/site-packages/ipykernel_launcher.py\", line 16, in <module>\n    app.launch_new_instance()\n  File \"/home/pirl/.conda/envs/tf/lib/python3.6/site-packages/traitlets/config/application.py\", line 658, in launch_instance\n    app.start()\n  File \"/home/pirl/.conda/envs/tf/lib/python3.6/site-packages/ipykernel/kernelapp.py\", line 505, in start\n    self.io_loop.start()\n  File \"/home/pirl/.conda/envs/tf/lib/python3.6/site-packages/tornado/platform/asyncio.py\", line 132, in start\n    self.asyncio_loop.run_forever()\n  File \"/home/pirl/.conda/envs/tf/lib/python3.6/asyncio/base_events.py\", line 438, in run_forever\n    self._run_once()\n  File \"/home/pirl/.conda/envs/tf/lib/python3.6/asyncio/base_events.py\", line 1451, in _run_once\n    handle._run()\n  File \"/home/pirl/.conda/envs/tf/lib/python3.6/asyncio/events.py\", line 145, in _run\n    self._callback(*self._args)\n  File \"/home/pirl/.conda/envs/tf/lib/python3.6/site-packages/tornado/ioloop.py\", line 758, in _run_callback\n    ret = callback()\n  File \"/home/pirl/.conda/envs/tf/lib/python3.6/site-packages/tornado/stack_context.py\", line 300, in null_wrapper\n    return fn(*args, **kwargs)\n  File \"/home/pirl/.conda/envs/tf/lib/python3.6/site-packages/tornado/gen.py\", line 1233, in inner\n    self.run()\n  File \"/home/pirl/.conda/envs/tf/lib/python3.6/site-packages/tornado/gen.py\", line 1147, in run\n    yielded = self.gen.send(value)\n  File \"/home/pirl/.conda/envs/tf/lib/python3.6/site-packages/ipykernel/kernelbase.py\", line 370, in dispatch_queue\n    yield self.process_one()\n  File \"/home/pirl/.conda/envs/tf/lib/python3.6/site-packages/tornado/gen.py\", line 346, in wrapper\n    runner = Runner(result, future, yielded)\n  File \"/home/pirl/.conda/envs/tf/lib/python3.6/site-packages/tornado/gen.py\", line 1080, in __init__\n    self.run()\n  File \"/home/pirl/.conda/envs/tf/lib/python3.6/site-packages/tornado/gen.py\", line 1147, in run\n    yielded = self.gen.send(value)\n  File \"/home/pirl/.conda/envs/tf/lib/python3.6/site-packages/ipykernel/kernelbase.py\", line 357, in process_one\n    yield gen.maybe_future(dispatch(*args))\n  File \"/home/pirl/.conda/envs/tf/lib/python3.6/site-packages/tornado/gen.py\", line 326, in wrapper\n    yielded = next(result)\n  File \"/home/pirl/.conda/envs/tf/lib/python3.6/site-packages/ipykernel/kernelbase.py\", line 267, in dispatch_shell\n    yield gen.maybe_future(handler(stream, idents, msg))\n  File \"/home/pirl/.conda/envs/tf/lib/python3.6/site-packages/tornado/gen.py\", line 326, in wrapper\n    yielded = next(result)\n  File \"/home/pirl/.conda/envs/tf/lib/python3.6/site-packages/ipykernel/kernelbase.py\", line 534, in execute_request\n    user_expressions, allow_stdin,\n  File \"/home/pirl/.conda/envs/tf/lib/python3.6/site-packages/tornado/gen.py\", line 326, in wrapper\n    yielded = next(result)\n  File \"/home/pirl/.conda/envs/tf/lib/python3.6/site-packages/ipykernel/ipkernel.py\", line 294, in do_execute\n    res = shell.run_cell(code, store_history=store_history, silent=silent)\n  File \"/home/pirl/.conda/envs/tf/lib/python3.6/site-packages/ipykernel/zmqshell.py\", line 536, in run_cell\n    return super(ZMQInteractiveShell, self).run_cell(*args, **kwargs)\n  File \"/home/pirl/.conda/envs/tf/lib/python3.6/site-packages/IPython/core/interactiveshell.py\", line 2843, in run_cell\n    raw_cell, store_history, silent, shell_futures)\n  File \"/home/pirl/.conda/envs/tf/lib/python3.6/site-packages/IPython/core/interactiveshell.py\", line 2869, in _run_cell\n    return runner(coro)\n  File \"/home/pirl/.conda/envs/tf/lib/python3.6/site-packages/IPython/core/async_helpers.py\", line 67, in _pseudo_sync_runner\n    coro.send(None)\n  File \"/home/pirl/.conda/envs/tf/lib/python3.6/site-packages/IPython/core/interactiveshell.py\", line 3044, in run_cell_async\n    interactivity=interactivity, compiler=compiler, result=result)\n  File \"/home/pirl/.conda/envs/tf/lib/python3.6/site-packages/IPython/core/interactiveshell.py\", line 3209, in run_ast_nodes\n    if (yield from self.run_code(code, result)):\n  File \"/home/pirl/.conda/envs/tf/lib/python3.6/site-packages/IPython/core/interactiveshell.py\", line 3291, in run_code\n    exec(code_obj, self.user_global_ns, self.user_ns)\n  File \"<ipython-input-7-fb7d8e7566e4>\", line 79, in <module>\n    main()\n  File \"<ipython-input-7-fb7d8e7566e4>\", line 69, in main\n    train(resnet)\n  File \"<ipython-input-7-fb7d8e7566e4>\", line 6, in train\n    loss = resnet.loss()\n  File \"<ipython-input-4-0962b8d35352>\", line 164, in loss\n    cross_entropy = loss_f(logits=self.last_layer, labels=self.y_ts, name='cross_entropy')\n  File \"/home/pirl/.conda/envs/tf/lib/python3.6/site-packages/tensorflow/python/ops/nn_ops.py\", line 2049, in sparse_softmax_cross_entropy_with_logits\n    precise_logits, labels, name=name)\n  File \"/home/pirl/.conda/envs/tf/lib/python3.6/site-packages/tensorflow/python/ops/gen_nn_ops.py\", line 7520, in sparse_softmax_cross_entropy_with_logits\n    labels=labels, name=name)\n  File \"/home/pirl/.conda/envs/tf/lib/python3.6/site-packages/tensorflow/python/framework/op_def_library.py\", line 787, in _apply_op_helper\n    op_def=op_def)\n  File \"/home/pirl/.conda/envs/tf/lib/python3.6/site-packages/tensorflow/python/util/deprecation.py\", line 488, in new_func\n    return func(*args, **kwargs)\n  File \"/home/pirl/.conda/envs/tf/lib/python3.6/site-packages/tensorflow/python/framework/ops.py\", line 3274, in create_op\n    op_def=op_def)\n  File \"/home/pirl/.conda/envs/tf/lib/python3.6/site-packages/tensorflow/python/framework/ops.py\", line 1770, in __init__\n    self._traceback = tf_stack.extract_stack()\n\nInvalidArgumentError (see above for traceback): labels must be 1-D, but got shape [100,1]\n\t [[node fc_1/cross_entropy/cross_entropy (defined at <ipython-input-4-0962b8d35352>:164)  = SparseSoftmaxCrossEntropyWithLogits[T=DT_FLOAT, Tlabels=DT_INT32, _device=\"/job:localhost/replica:0/task:0/device:GPU:0\"](fc/add, _arg_Placeholder_1_0_1/_783)]]\n\t [[{{node fc_1/cross_entropy_mean/_789}} = _Recv[client_terminated=false, recv_device=\"/job:localhost/replica:0/task:0/device:CPU:0\", send_device=\"/job:localhost/replica:0/task:0/device:GPU:0\", send_device_incarnation=1, tensor_name=\"edge_14244_fc_1/cross_entropy_mean\", tensor_type=DT_FLOAT, _device=\"/job:localhost/replica:0/task:0/device:CPU:0\"]()]]\n",
     "output_type": "error",
     "traceback": [
      "\u001b[0;31m---------------------------------------------------------------------------\u001b[0m",
      "\u001b[0;31mInvalidArgumentError\u001b[0m                      Traceback (most recent call last)",
      "\u001b[0;32m~/.conda/envs/tf/lib/python3.6/site-packages/tensorflow/python/client/session.py\u001b[0m in \u001b[0;36m_do_call\u001b[0;34m(self, fn, *args)\u001b[0m\n\u001b[1;32m   1333\u001b[0m     \u001b[0;32mtry\u001b[0m\u001b[0;34m:\u001b[0m\u001b[0;34m\u001b[0m\u001b[0;34m\u001b[0m\u001b[0m\n\u001b[0;32m-> 1334\u001b[0;31m       \u001b[0;32mreturn\u001b[0m \u001b[0mfn\u001b[0m\u001b[0;34m(\u001b[0m\u001b[0;34m*\u001b[0m\u001b[0margs\u001b[0m\u001b[0;34m)\u001b[0m\u001b[0;34m\u001b[0m\u001b[0;34m\u001b[0m\u001b[0m\n\u001b[0m\u001b[1;32m   1335\u001b[0m     \u001b[0;32mexcept\u001b[0m \u001b[0merrors\u001b[0m\u001b[0;34m.\u001b[0m\u001b[0mOpError\u001b[0m \u001b[0;32mas\u001b[0m \u001b[0me\u001b[0m\u001b[0;34m:\u001b[0m\u001b[0;34m\u001b[0m\u001b[0;34m\u001b[0m\u001b[0m\n",
      "\u001b[0;32m~/.conda/envs/tf/lib/python3.6/site-packages/tensorflow/python/client/session.py\u001b[0m in \u001b[0;36m_run_fn\u001b[0;34m(feed_dict, fetch_list, target_list, options, run_metadata)\u001b[0m\n\u001b[1;32m   1318\u001b[0m       return self._call_tf_sessionrun(\n\u001b[0;32m-> 1319\u001b[0;31m           options, feed_dict, fetch_list, target_list, run_metadata)\n\u001b[0m\u001b[1;32m   1320\u001b[0m \u001b[0;34m\u001b[0m\u001b[0m\n",
      "\u001b[0;32m~/.conda/envs/tf/lib/python3.6/site-packages/tensorflow/python/client/session.py\u001b[0m in \u001b[0;36m_call_tf_sessionrun\u001b[0;34m(self, options, feed_dict, fetch_list, target_list, run_metadata)\u001b[0m\n\u001b[1;32m   1406\u001b[0m         \u001b[0mself\u001b[0m\u001b[0;34m.\u001b[0m\u001b[0m_session\u001b[0m\u001b[0;34m,\u001b[0m \u001b[0moptions\u001b[0m\u001b[0;34m,\u001b[0m \u001b[0mfeed_dict\u001b[0m\u001b[0;34m,\u001b[0m \u001b[0mfetch_list\u001b[0m\u001b[0;34m,\u001b[0m \u001b[0mtarget_list\u001b[0m\u001b[0;34m,\u001b[0m\u001b[0;34m\u001b[0m\u001b[0;34m\u001b[0m\u001b[0m\n\u001b[0;32m-> 1407\u001b[0;31m         run_metadata)\n\u001b[0m\u001b[1;32m   1408\u001b[0m \u001b[0;34m\u001b[0m\u001b[0m\n",
      "\u001b[0;31mInvalidArgumentError\u001b[0m: labels must be 1-D, but got shape [100,1]\n\t [[{{node fc_1/cross_entropy/cross_entropy}} = SparseSoftmaxCrossEntropyWithLogits[T=DT_FLOAT, Tlabels=DT_INT32, _device=\"/job:localhost/replica:0/task:0/device:GPU:0\"](fc/add, _arg_Placeholder_1_0_1/_783)]]\n\t [[{{node fc_1/cross_entropy_mean/_789}} = _Recv[client_terminated=false, recv_device=\"/job:localhost/replica:0/task:0/device:CPU:0\", send_device=\"/job:localhost/replica:0/task:0/device:GPU:0\", send_device_incarnation=1, tensor_name=\"edge_14244_fc_1/cross_entropy_mean\", tensor_type=DT_FLOAT, _device=\"/job:localhost/replica:0/task:0/device:CPU:0\"]()]]",
      "\nDuring handling of the above exception, another exception occurred:\n",
      "\u001b[0;31mInvalidArgumentError\u001b[0m                      Traceback (most recent call last)",
      "\u001b[0;32m<ipython-input-7-fb7d8e7566e4>\u001b[0m in \u001b[0;36m<module>\u001b[0;34m\u001b[0m\n\u001b[1;32m     77\u001b[0m \u001b[0;34m\u001b[0m\u001b[0m\n\u001b[1;32m     78\u001b[0m \u001b[0;32mif\u001b[0m \u001b[0m__name__\u001b[0m \u001b[0;34m==\u001b[0m \u001b[0;34m'__main__'\u001b[0m\u001b[0;34m:\u001b[0m\u001b[0;34m\u001b[0m\u001b[0;34m\u001b[0m\u001b[0m\n\u001b[0;32m---> 79\u001b[0;31m     \u001b[0mmain\u001b[0m\u001b[0;34m(\u001b[0m\u001b[0;34m)\u001b[0m\u001b[0;34m\u001b[0m\u001b[0;34m\u001b[0m\u001b[0m\n\u001b[0m",
      "\u001b[0;32m<ipython-input-7-fb7d8e7566e4>\u001b[0m in \u001b[0;36mmain\u001b[0;34m()\u001b[0m\n\u001b[1;32m     67\u001b[0m \u001b[0;34m\u001b[0m\u001b[0m\n\u001b[1;32m     68\u001b[0m     \u001b[0mprint\u001b[0m\u001b[0;34m(\u001b[0m\u001b[0;34m'Start Training'\u001b[0m\u001b[0;34m)\u001b[0m\u001b[0;34m\u001b[0m\u001b[0;34m\u001b[0m\u001b[0m\n\u001b[0;32m---> 69\u001b[0;31m     \u001b[0mtrain\u001b[0m\u001b[0;34m(\u001b[0m\u001b[0mresnet\u001b[0m\u001b[0;34m)\u001b[0m\u001b[0;34m\u001b[0m\u001b[0;34m\u001b[0m\u001b[0m\n\u001b[0m\u001b[1;32m     70\u001b[0m \u001b[0;31m#     if mode == 'train':\u001b[0m\u001b[0;34m\u001b[0m\u001b[0;34m\u001b[0m\u001b[0;34m\u001b[0m\u001b[0m\n\u001b[1;32m     71\u001b[0m \u001b[0;31m#         print('Start Training')\u001b[0m\u001b[0;34m\u001b[0m\u001b[0;34m\u001b[0m\u001b[0;34m\u001b[0m\u001b[0m\n",
      "\u001b[0;32m<ipython-input-7-fb7d8e7566e4>\u001b[0m in \u001b[0;36mtrain\u001b[0;34m(resnet, interval)\u001b[0m\n\u001b[1;32m     25\u001b[0m             \u001b[0mprint\u001b[0m\u001b[0;34m(\u001b[0m\u001b[0msample_x\u001b[0m\u001b[0;34m.\u001b[0m\u001b[0mshape\u001b[0m\u001b[0;34m,\u001b[0m \u001b[0msample_y\u001b[0m\u001b[0;34m.\u001b[0m\u001b[0mshape\u001b[0m\u001b[0;34m)\u001b[0m\u001b[0;34m\u001b[0m\u001b[0;34m\u001b[0m\u001b[0m\n\u001b[1;32m     26\u001b[0m             \u001b[0mfeed_dict\u001b[0m \u001b[0;34m=\u001b[0m \u001b[0;34m{\u001b[0m\u001b[0mresnet\u001b[0m\u001b[0;34m.\u001b[0m\u001b[0mx_ts\u001b[0m\u001b[0;34m:\u001b[0m \u001b[0msample_x\u001b[0m\u001b[0;34m,\u001b[0m \u001b[0mresnet\u001b[0m\u001b[0;34m.\u001b[0m\u001b[0my_ts\u001b[0m\u001b[0;34m:\u001b[0m \u001b[0msample_y\u001b[0m\u001b[0;34m}\u001b[0m\u001b[0;34m\u001b[0m\u001b[0;34m\u001b[0m\u001b[0m\n\u001b[0;32m---> 27\u001b[0;31m             \u001b[0m_loss\u001b[0m\u001b[0;34m,\u001b[0m \u001b[0m_\u001b[0m \u001b[0;34m=\u001b[0m \u001b[0mresnet\u001b[0m\u001b[0;34m.\u001b[0m\u001b[0msess\u001b[0m\u001b[0;34m.\u001b[0m\u001b[0mrun\u001b[0m\u001b[0;34m(\u001b[0m\u001b[0;34m[\u001b[0m\u001b[0mloss\u001b[0m\u001b[0;34m,\u001b[0m \u001b[0mtrain_op\u001b[0m\u001b[0;34m]\u001b[0m\u001b[0;34m,\u001b[0m \u001b[0mfeed_dict\u001b[0m\u001b[0;34m=\u001b[0m\u001b[0mfeed_dict\u001b[0m\u001b[0;34m)\u001b[0m\u001b[0;34m\u001b[0m\u001b[0;34m\u001b[0m\u001b[0m\n\u001b[0m\u001b[1;32m     28\u001b[0m \u001b[0;34m\u001b[0m\u001b[0m\n\u001b[1;32m     29\u001b[0m             \u001b[0;31m# Visualize\u001b[0m\u001b[0;34m\u001b[0m\u001b[0;34m\u001b[0m\u001b[0;34m\u001b[0m\u001b[0m\n",
      "\u001b[0;32m~/.conda/envs/tf/lib/python3.6/site-packages/tensorflow/python/client/session.py\u001b[0m in \u001b[0;36mrun\u001b[0;34m(self, fetches, feed_dict, options, run_metadata)\u001b[0m\n\u001b[1;32m    927\u001b[0m     \u001b[0;32mtry\u001b[0m\u001b[0;34m:\u001b[0m\u001b[0;34m\u001b[0m\u001b[0;34m\u001b[0m\u001b[0m\n\u001b[1;32m    928\u001b[0m       result = self._run(None, fetches, feed_dict, options_ptr,\n\u001b[0;32m--> 929\u001b[0;31m                          run_metadata_ptr)\n\u001b[0m\u001b[1;32m    930\u001b[0m       \u001b[0;32mif\u001b[0m \u001b[0mrun_metadata\u001b[0m\u001b[0;34m:\u001b[0m\u001b[0;34m\u001b[0m\u001b[0;34m\u001b[0m\u001b[0m\n\u001b[1;32m    931\u001b[0m         \u001b[0mproto_data\u001b[0m \u001b[0;34m=\u001b[0m \u001b[0mtf_session\u001b[0m\u001b[0;34m.\u001b[0m\u001b[0mTF_GetBuffer\u001b[0m\u001b[0;34m(\u001b[0m\u001b[0mrun_metadata_ptr\u001b[0m\u001b[0;34m)\u001b[0m\u001b[0;34m\u001b[0m\u001b[0;34m\u001b[0m\u001b[0m\n",
      "\u001b[0;32m~/.conda/envs/tf/lib/python3.6/site-packages/tensorflow/python/client/session.py\u001b[0m in \u001b[0;36m_run\u001b[0;34m(self, handle, fetches, feed_dict, options, run_metadata)\u001b[0m\n\u001b[1;32m   1150\u001b[0m     \u001b[0;32mif\u001b[0m \u001b[0mfinal_fetches\u001b[0m \u001b[0;32mor\u001b[0m \u001b[0mfinal_targets\u001b[0m \u001b[0;32mor\u001b[0m \u001b[0;34m(\u001b[0m\u001b[0mhandle\u001b[0m \u001b[0;32mand\u001b[0m \u001b[0mfeed_dict_tensor\u001b[0m\u001b[0;34m)\u001b[0m\u001b[0;34m:\u001b[0m\u001b[0;34m\u001b[0m\u001b[0;34m\u001b[0m\u001b[0m\n\u001b[1;32m   1151\u001b[0m       results = self._do_run(handle, final_targets, final_fetches,\n\u001b[0;32m-> 1152\u001b[0;31m                              feed_dict_tensor, options, run_metadata)\n\u001b[0m\u001b[1;32m   1153\u001b[0m     \u001b[0;32melse\u001b[0m\u001b[0;34m:\u001b[0m\u001b[0;34m\u001b[0m\u001b[0;34m\u001b[0m\u001b[0m\n\u001b[1;32m   1154\u001b[0m       \u001b[0mresults\u001b[0m \u001b[0;34m=\u001b[0m \u001b[0;34m[\u001b[0m\u001b[0;34m]\u001b[0m\u001b[0;34m\u001b[0m\u001b[0;34m\u001b[0m\u001b[0m\n",
      "\u001b[0;32m~/.conda/envs/tf/lib/python3.6/site-packages/tensorflow/python/client/session.py\u001b[0m in \u001b[0;36m_do_run\u001b[0;34m(self, handle, target_list, fetch_list, feed_dict, options, run_metadata)\u001b[0m\n\u001b[1;32m   1326\u001b[0m     \u001b[0;32mif\u001b[0m \u001b[0mhandle\u001b[0m \u001b[0;32mis\u001b[0m \u001b[0;32mNone\u001b[0m\u001b[0;34m:\u001b[0m\u001b[0;34m\u001b[0m\u001b[0;34m\u001b[0m\u001b[0m\n\u001b[1;32m   1327\u001b[0m       return self._do_call(_run_fn, feeds, fetches, targets, options,\n\u001b[0;32m-> 1328\u001b[0;31m                            run_metadata)\n\u001b[0m\u001b[1;32m   1329\u001b[0m     \u001b[0;32melse\u001b[0m\u001b[0;34m:\u001b[0m\u001b[0;34m\u001b[0m\u001b[0;34m\u001b[0m\u001b[0m\n\u001b[1;32m   1330\u001b[0m       \u001b[0;32mreturn\u001b[0m \u001b[0mself\u001b[0m\u001b[0;34m.\u001b[0m\u001b[0m_do_call\u001b[0m\u001b[0;34m(\u001b[0m\u001b[0m_prun_fn\u001b[0m\u001b[0;34m,\u001b[0m \u001b[0mhandle\u001b[0m\u001b[0;34m,\u001b[0m \u001b[0mfeeds\u001b[0m\u001b[0;34m,\u001b[0m \u001b[0mfetches\u001b[0m\u001b[0;34m)\u001b[0m\u001b[0;34m\u001b[0m\u001b[0;34m\u001b[0m\u001b[0m\n",
      "\u001b[0;32m~/.conda/envs/tf/lib/python3.6/site-packages/tensorflow/python/client/session.py\u001b[0m in \u001b[0;36m_do_call\u001b[0;34m(self, fn, *args)\u001b[0m\n\u001b[1;32m   1346\u001b[0m           \u001b[0;32mpass\u001b[0m\u001b[0;34m\u001b[0m\u001b[0;34m\u001b[0m\u001b[0m\n\u001b[1;32m   1347\u001b[0m       \u001b[0mmessage\u001b[0m \u001b[0;34m=\u001b[0m \u001b[0merror_interpolation\u001b[0m\u001b[0;34m.\u001b[0m\u001b[0minterpolate\u001b[0m\u001b[0;34m(\u001b[0m\u001b[0mmessage\u001b[0m\u001b[0;34m,\u001b[0m \u001b[0mself\u001b[0m\u001b[0;34m.\u001b[0m\u001b[0m_graph\u001b[0m\u001b[0;34m)\u001b[0m\u001b[0;34m\u001b[0m\u001b[0;34m\u001b[0m\u001b[0m\n\u001b[0;32m-> 1348\u001b[0;31m       \u001b[0;32mraise\u001b[0m \u001b[0mtype\u001b[0m\u001b[0;34m(\u001b[0m\u001b[0me\u001b[0m\u001b[0;34m)\u001b[0m\u001b[0;34m(\u001b[0m\u001b[0mnode_def\u001b[0m\u001b[0;34m,\u001b[0m \u001b[0mop\u001b[0m\u001b[0;34m,\u001b[0m \u001b[0mmessage\u001b[0m\u001b[0;34m)\u001b[0m\u001b[0;34m\u001b[0m\u001b[0;34m\u001b[0m\u001b[0m\n\u001b[0m\u001b[1;32m   1349\u001b[0m \u001b[0;34m\u001b[0m\u001b[0m\n\u001b[1;32m   1350\u001b[0m   \u001b[0;32mdef\u001b[0m \u001b[0m_extend_graph\u001b[0m\u001b[0;34m(\u001b[0m\u001b[0mself\u001b[0m\u001b[0;34m)\u001b[0m\u001b[0;34m:\u001b[0m\u001b[0;34m\u001b[0m\u001b[0;34m\u001b[0m\u001b[0m\n",
      "\u001b[0;31mInvalidArgumentError\u001b[0m: labels must be 1-D, but got shape [100,1]\n\t [[node fc_1/cross_entropy/cross_entropy (defined at <ipython-input-4-0962b8d35352>:164)  = SparseSoftmaxCrossEntropyWithLogits[T=DT_FLOAT, Tlabels=DT_INT32, _device=\"/job:localhost/replica:0/task:0/device:GPU:0\"](fc/add, _arg_Placeholder_1_0_1/_783)]]\n\t [[{{node fc_1/cross_entropy_mean/_789}} = _Recv[client_terminated=false, recv_device=\"/job:localhost/replica:0/task:0/device:CPU:0\", send_device=\"/job:localhost/replica:0/task:0/device:GPU:0\", send_device_incarnation=1, tensor_name=\"edge_14244_fc_1/cross_entropy_mean\", tensor_type=DT_FLOAT, _device=\"/job:localhost/replica:0/task:0/device:CPU:0\"]()]]\n\nCaused by op 'fc_1/cross_entropy/cross_entropy', defined at:\n  File \"/home/pirl/.conda/envs/tf/lib/python3.6/runpy.py\", line 193, in _run_module_as_main\n    \"__main__\", mod_spec)\n  File \"/home/pirl/.conda/envs/tf/lib/python3.6/runpy.py\", line 85, in _run_code\n    exec(code, run_globals)\n  File \"/home/pirl/.conda/envs/tf/lib/python3.6/site-packages/ipykernel_launcher.py\", line 16, in <module>\n    app.launch_new_instance()\n  File \"/home/pirl/.conda/envs/tf/lib/python3.6/site-packages/traitlets/config/application.py\", line 658, in launch_instance\n    app.start()\n  File \"/home/pirl/.conda/envs/tf/lib/python3.6/site-packages/ipykernel/kernelapp.py\", line 505, in start\n    self.io_loop.start()\n  File \"/home/pirl/.conda/envs/tf/lib/python3.6/site-packages/tornado/platform/asyncio.py\", line 132, in start\n    self.asyncio_loop.run_forever()\n  File \"/home/pirl/.conda/envs/tf/lib/python3.6/asyncio/base_events.py\", line 438, in run_forever\n    self._run_once()\n  File \"/home/pirl/.conda/envs/tf/lib/python3.6/asyncio/base_events.py\", line 1451, in _run_once\n    handle._run()\n  File \"/home/pirl/.conda/envs/tf/lib/python3.6/asyncio/events.py\", line 145, in _run\n    self._callback(*self._args)\n  File \"/home/pirl/.conda/envs/tf/lib/python3.6/site-packages/tornado/ioloop.py\", line 758, in _run_callback\n    ret = callback()\n  File \"/home/pirl/.conda/envs/tf/lib/python3.6/site-packages/tornado/stack_context.py\", line 300, in null_wrapper\n    return fn(*args, **kwargs)\n  File \"/home/pirl/.conda/envs/tf/lib/python3.6/site-packages/tornado/gen.py\", line 1233, in inner\n    self.run()\n  File \"/home/pirl/.conda/envs/tf/lib/python3.6/site-packages/tornado/gen.py\", line 1147, in run\n    yielded = self.gen.send(value)\n  File \"/home/pirl/.conda/envs/tf/lib/python3.6/site-packages/ipykernel/kernelbase.py\", line 370, in dispatch_queue\n    yield self.process_one()\n  File \"/home/pirl/.conda/envs/tf/lib/python3.6/site-packages/tornado/gen.py\", line 346, in wrapper\n    runner = Runner(result, future, yielded)\n  File \"/home/pirl/.conda/envs/tf/lib/python3.6/site-packages/tornado/gen.py\", line 1080, in __init__\n    self.run()\n  File \"/home/pirl/.conda/envs/tf/lib/python3.6/site-packages/tornado/gen.py\", line 1147, in run\n    yielded = self.gen.send(value)\n  File \"/home/pirl/.conda/envs/tf/lib/python3.6/site-packages/ipykernel/kernelbase.py\", line 357, in process_one\n    yield gen.maybe_future(dispatch(*args))\n  File \"/home/pirl/.conda/envs/tf/lib/python3.6/site-packages/tornado/gen.py\", line 326, in wrapper\n    yielded = next(result)\n  File \"/home/pirl/.conda/envs/tf/lib/python3.6/site-packages/ipykernel/kernelbase.py\", line 267, in dispatch_shell\n    yield gen.maybe_future(handler(stream, idents, msg))\n  File \"/home/pirl/.conda/envs/tf/lib/python3.6/site-packages/tornado/gen.py\", line 326, in wrapper\n    yielded = next(result)\n  File \"/home/pirl/.conda/envs/tf/lib/python3.6/site-packages/ipykernel/kernelbase.py\", line 534, in execute_request\n    user_expressions, allow_stdin,\n  File \"/home/pirl/.conda/envs/tf/lib/python3.6/site-packages/tornado/gen.py\", line 326, in wrapper\n    yielded = next(result)\n  File \"/home/pirl/.conda/envs/tf/lib/python3.6/site-packages/ipykernel/ipkernel.py\", line 294, in do_execute\n    res = shell.run_cell(code, store_history=store_history, silent=silent)\n  File \"/home/pirl/.conda/envs/tf/lib/python3.6/site-packages/ipykernel/zmqshell.py\", line 536, in run_cell\n    return super(ZMQInteractiveShell, self).run_cell(*args, **kwargs)\n  File \"/home/pirl/.conda/envs/tf/lib/python3.6/site-packages/IPython/core/interactiveshell.py\", line 2843, in run_cell\n    raw_cell, store_history, silent, shell_futures)\n  File \"/home/pirl/.conda/envs/tf/lib/python3.6/site-packages/IPython/core/interactiveshell.py\", line 2869, in _run_cell\n    return runner(coro)\n  File \"/home/pirl/.conda/envs/tf/lib/python3.6/site-packages/IPython/core/async_helpers.py\", line 67, in _pseudo_sync_runner\n    coro.send(None)\n  File \"/home/pirl/.conda/envs/tf/lib/python3.6/site-packages/IPython/core/interactiveshell.py\", line 3044, in run_cell_async\n    interactivity=interactivity, compiler=compiler, result=result)\n  File \"/home/pirl/.conda/envs/tf/lib/python3.6/site-packages/IPython/core/interactiveshell.py\", line 3209, in run_ast_nodes\n    if (yield from self.run_code(code, result)):\n  File \"/home/pirl/.conda/envs/tf/lib/python3.6/site-packages/IPython/core/interactiveshell.py\", line 3291, in run_code\n    exec(code_obj, self.user_global_ns, self.user_ns)\n  File \"<ipython-input-7-fb7d8e7566e4>\", line 79, in <module>\n    main()\n  File \"<ipython-input-7-fb7d8e7566e4>\", line 69, in main\n    train(resnet)\n  File \"<ipython-input-7-fb7d8e7566e4>\", line 6, in train\n    loss = resnet.loss()\n  File \"<ipython-input-4-0962b8d35352>\", line 164, in loss\n    cross_entropy = loss_f(logits=self.last_layer, labels=self.y_ts, name='cross_entropy')\n  File \"/home/pirl/.conda/envs/tf/lib/python3.6/site-packages/tensorflow/python/ops/nn_ops.py\", line 2049, in sparse_softmax_cross_entropy_with_logits\n    precise_logits, labels, name=name)\n  File \"/home/pirl/.conda/envs/tf/lib/python3.6/site-packages/tensorflow/python/ops/gen_nn_ops.py\", line 7520, in sparse_softmax_cross_entropy_with_logits\n    labels=labels, name=name)\n  File \"/home/pirl/.conda/envs/tf/lib/python3.6/site-packages/tensorflow/python/framework/op_def_library.py\", line 787, in _apply_op_helper\n    op_def=op_def)\n  File \"/home/pirl/.conda/envs/tf/lib/python3.6/site-packages/tensorflow/python/util/deprecation.py\", line 488, in new_func\n    return func(*args, **kwargs)\n  File \"/home/pirl/.conda/envs/tf/lib/python3.6/site-packages/tensorflow/python/framework/ops.py\", line 3274, in create_op\n    op_def=op_def)\n  File \"/home/pirl/.conda/envs/tf/lib/python3.6/site-packages/tensorflow/python/framework/ops.py\", line 1770, in __init__\n    self._traceback = tf_stack.extract_stack()\n\nInvalidArgumentError (see above for traceback): labels must be 1-D, but got shape [100,1]\n\t [[node fc_1/cross_entropy/cross_entropy (defined at <ipython-input-4-0962b8d35352>:164)  = SparseSoftmaxCrossEntropyWithLogits[T=DT_FLOAT, Tlabels=DT_INT32, _device=\"/job:localhost/replica:0/task:0/device:GPU:0\"](fc/add, _arg_Placeholder_1_0_1/_783)]]\n\t [[{{node fc_1/cross_entropy_mean/_789}} = _Recv[client_terminated=false, recv_device=\"/job:localhost/replica:0/task:0/device:CPU:0\", send_device=\"/job:localhost/replica:0/task:0/device:GPU:0\", send_device_incarnation=1, tensor_name=\"edge_14244_fc_1/cross_entropy_mean\", tensor_type=DT_FLOAT, _device=\"/job:localhost/replica:0/task:0/device:CPU:0\"]()]]\n"
     ]
    }
   ],
   "source": [
    "from keras.preprocessing.image import ImageDataGenerator\n",
    "from queue import deque\n",
    "\n",
    "def train(resnet, interval = visualize_interval):\n",
    "    with tf.variable_scope('fc'):\n",
    "        loss = resnet.loss()\n",
    "        adam = tf.train.AdamOptimizer()\n",
    "        train_op = adam.minimize(loss)\n",
    "        resnet.compile()\n",
    "\n",
    "    # Get Data\n",
    "    (train_x, train_y), (test_x, test_y) = tf.keras.datasets.cifar100.load_data(label_mode='fine')\n",
    "\n",
    "    # Image Augmentation\n",
    "    datagen = ImageDataGenerator(horizontal_flip=True, vertical_flip=True, featurewise_center=True,\n",
    "                                 featurewise_std_normalization=True)\n",
    "    datagen.fit(train_x)\n",
    "\n",
    "    iter_count = 0\n",
    "    _losses = deque(maxlen=interval)\n",
    "    for epoch in range(1, epoch_ + 1):\n",
    "        sample_count = 0\n",
    "\n",
    "        for i, (sample_x, sample_y) in enumerate(datagen.flow(train_x, train_y, batch_size=batch)):\n",
    "            print(sample_x.shape, sample_y.shape)\n",
    "            feed_dict = {resnet.x_ts: sample_x, resnet.y_ts: sample_y}\n",
    "            _loss, _ = resnet.sess.run([loss, train_op], feed_dict=feed_dict)\n",
    "\n",
    "            # Visualize\n",
    "            _losses.append(_loss)\n",
    "            iter_count += 1\n",
    "            sample_count += 1\n",
    "            if i % interval == 0:\n",
    "                _loss = np.mean(_losses)\n",
    "                print(f'[epoch:{epoch:02}] loss:{_loss:<7.4}  '\n",
    "                      f'sample_count:{sample_count:<5}  '\n",
    "                      f'iteration:{iter_count:<5}  ')\n",
    "\n",
    "            # Save\n",
    "            if iter_count % save_interval == 0:\n",
    "                print(f'Model has been successfully saved at iteration = {iter_count}')\n",
    "                resnet.save()\n",
    "\n",
    "\n",
    "def evaluate(resnet, batch_size= batch):\n",
    "    correct_prediction = tf.equal(tf.argmax(resnet.last_layer, 1), y=resnet.y_ts)\n",
    "    accuracy = tf.reduce_mean(tf.cast(correct_prediction, \"float\"))\n",
    "    resnet.compile()\n",
    "\n",
    "    # Get Data\n",
    "    (train_x, train_y), (test_x, test_y) = tf.keras.datasets.cifar100.load_data(label_mode='fine')\n",
    "\n",
    "    accuracies = list()\n",
    "    for i in range(0, 10000, batch_size):\n",
    "        if i + batch_size < 10000:\n",
    "            _acc = resnet.sess.run(accuracy, feed_dict={\n",
    "                resnet.x_ts: test_x[i:i + batch_size],\n",
    "                resnet.y_ts: test_y[i:i + batch_size]})\n",
    "            accuracies.append(_acc)\n",
    "\n",
    "    print('Accuracy', np.mean(accuracies))\n",
    "\n",
    "\n",
    "def main():\n",
    "    resnet = ResNet(batch= batch)\n",
    "    model(resnet)\n",
    "\n",
    "    print('Start Training')\n",
    "    train(resnet)\n",
    "#     if mode == 'train':\n",
    "#         print('Start Training')\n",
    "#         train(resnet)\n",
    "#     elif mode == 'test':\n",
    "#         print('Start Evaluation')\n",
    "#         evaluate(resnet)\n",
    "\n",
    "\n",
    "if __name__ == '__main__':\n",
    "    main()"
   ]
  },
  {
   "cell_type": "code",
   "execution_count": null,
   "metadata": {},
   "outputs": [],
   "source": [
    "from tensorflow.python.client import device_lib\n",
    "device_lib.list_local_devices()\n",
    "tf.device('/device:GPU:0')"
   ]
  },
  {
   "cell_type": "code",
   "execution_count": null,
   "metadata": {},
   "outputs": [],
   "source": []
  }
 ],
 "metadata": {
  "kernelspec": {
   "display_name": "tf",
   "language": "python",
   "name": "tf"
  },
  "language_info": {
   "codemirror_mode": {
    "name": "ipython",
    "version": 3
   },
   "file_extension": ".py",
   "mimetype": "text/x-python",
   "name": "python",
   "nbconvert_exporter": "python",
   "pygments_lexer": "ipython3",
   "version": "3.6.8"
  }
 },
 "nbformat": 4,
 "nbformat_minor": 2
}
